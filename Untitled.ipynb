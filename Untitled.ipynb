{
 "cells": [
  {
   "cell_type": "code",
   "execution_count": 23,
   "metadata": {},
   "outputs": [
    {
     "name": "stdout",
     "output_type": "stream",
     "text": [
      "tensor([1., 2., 3.], requires_grad=True)\n",
      "tensor([2., 3., 4.], requires_grad=True)\n",
      "tensor([3., 4., 5.], requires_grad=True)\n"
     ]
    }
   ],
   "source": [
    "import torch\n",
    "from torch.autograd import Variable\n",
    "\n",
    "# 定义三个Variable变量\n",
    "x = Variable(torch.Tensor([1,2,3]),requires_grad=True)\n",
    "w = Variable(torch.Tensor([2,3,4]),requires_grad=True)\n",
    "b = Variable(torch.Tensor([3,4,5]),requires_grad=True)\n",
    "print(x)\n",
    "print(w)\n",
    "print(b)"
   ]
  },
  {
   "cell_type": "code",
   "execution_count": 28,
   "metadata": {},
   "outputs": [
    {
     "data": {
      "text/plain": [
       "tensor([ 5., 16., 41.], grad_fn=<AddBackward0>)"
      ]
     },
     "execution_count": 28,
     "metadata": {},
     "output_type": "execute_result"
    }
   ],
   "source": [
    "# 构建函数\n",
    "y = w * x * x + b\n",
    "y"
   ]
  },
  {
   "cell_type": "code",
   "execution_count": 29,
   "metadata": {},
   "outputs": [
    {
     "name": "stdout",
     "output_type": "stream",
     "text": [
      "tensor([ 8., 24., 48.])\n",
      "tensor([ 2.,  8., 18.])\n",
      "tensor([4., 4., 4.])\n"
     ]
    }
   ],
   "source": [
    "# 自动求导，计算梯度\n",
    "y.backward(torch.Tensor([1,1,1]))\n",
    "print(x.grad)\n",
    "print(w.grad)\n",
    "print(b.grad)"
   ]
  },
  {
   "cell_type": "code",
   "execution_count": null,
   "metadata": {},
   "outputs": [],
   "source": [
    "# 上述代码的计算图为y = w * x^2 + b。\n",
    "# 对x, w, b分别求偏导为\n",
    "# x.grad = 2wx，w.grad=x^2，b.grad=1。\n",
    "# 代值检验可得计算结果是正确的。"
   ]
  }
 ],
 "metadata": {
  "kernelspec": {
   "display_name": "Python 3",
   "language": "python",
   "name": "python3"
  },
  "language_info": {
   "codemirror_mode": {
    "name": "ipython",
    "version": 3
   },
   "file_extension": ".py",
   "mimetype": "text/x-python",
   "name": "python",
   "nbconvert_exporter": "python",
   "pygments_lexer": "ipython3",
   "version": "3.6.5"
  }
 },
 "nbformat": 4,
 "nbformat_minor": 2
}
